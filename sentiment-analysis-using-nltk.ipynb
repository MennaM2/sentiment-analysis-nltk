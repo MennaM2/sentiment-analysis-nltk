{
 "cells": [
  {
   "cell_type": "markdown",
   "metadata": {},
   "source": [
    "## **Import Needed libraries**"
   ]
  },
  {
   "cell_type": "code",
   "execution_count": 1,
   "metadata": {
    "execution": {
     "iopub.execute_input": "2025-03-07T23:24:48.642574Z",
     "iopub.status.busy": "2025-03-07T23:24:48.642075Z",
     "iopub.status.idle": "2025-03-07T23:24:49.891808Z",
     "shell.execute_reply": "2025-03-07T23:24:49.890451Z",
     "shell.execute_reply.started": "2025-03-07T23:24:48.642527Z"
    },
    "trusted": true
   },
   "outputs": [],
   "source": [
    "import nltk\n",
    "import numpy as np\n",
    "import pandas as pd\n",
    "import matplotlib.pyplot as plt\n",
    "\n",
    "from nltk.tokenize import word_tokenize\n",
    "from nltk.corpus import stopwords\n",
    "from nltk.stem import PorterStemmer\n",
    "from sklearn.model_selection import train_test_split\n",
    "from sklearn.feature_extraction.text import TfidfVectorizer\n",
    "from sklearn.preprocessing import LabelEncoder\n",
    "from sklearn.linear_model import LogisticRegression\n",
    "from sklearn.ensemble import RandomForestClassifier\n",
    "from sklearn.metrics import accuracy_score, classification_report"
   ]
  },
  {
   "cell_type": "code",
   "execution_count": 2,
   "metadata": {
    "execution": {
     "iopub.execute_input": "2025-03-07T23:24:49.893556Z",
     "iopub.status.busy": "2025-03-07T23:24:49.893081Z",
     "iopub.status.idle": "2025-03-07T23:24:49.994718Z",
     "shell.execute_reply": "2025-03-07T23:24:49.993678Z",
     "shell.execute_reply.started": "2025-03-07T23:24:49.893524Z"
    },
    "trusted": true
   },
   "outputs": [
    {
     "name": "stdout",
     "output_type": "stream",
     "text": [
      "[nltk_data] Downloading package punkt to /usr/share/nltk_data...\n",
      "[nltk_data]   Package punkt is already up-to-date!\n",
      "[nltk_data] Downloading package stopwords to /usr/share/nltk_data...\n",
      "[nltk_data]   Package stopwords is already up-to-date!\n"
     ]
    },
    {
     "data": {
      "text/plain": [
       "True"
      ]
     },
     "execution_count": 2,
     "metadata": {},
     "output_type": "execute_result"
    }
   ],
   "source": [
    "# Download required NLTK resources\n",
    "nltk.download('punkt')\n",
    "nltk.download('stopwords')"
   ]
  },
  {
   "cell_type": "markdown",
   "metadata": {},
   "source": [
    "## **Data Representation**"
   ]
  },
  {
   "cell_type": "code",
   "execution_count": 3,
   "metadata": {
    "execution": {
     "iopub.execute_input": "2025-03-07T23:24:49.997115Z",
     "iopub.status.busy": "2025-03-07T23:24:49.996716Z",
     "iopub.status.idle": "2025-03-07T23:24:50.022570Z",
     "shell.execute_reply": "2025-03-07T23:24:50.021449Z",
     "shell.execute_reply.started": "2025-03-07T23:24:49.997077Z"
    },
    "trusted": true
   },
   "outputs": [],
   "source": [
    "df = pd.read_csv(\"/kaggle/input/emotion-dataset/Emotion_classify_Data.csv\")"
   ]
  },
  {
   "cell_type": "code",
   "execution_count": 4,
   "metadata": {
    "execution": {
     "iopub.execute_input": "2025-03-07T23:24:50.024367Z",
     "iopub.status.busy": "2025-03-07T23:24:50.023980Z",
     "iopub.status.idle": "2025-03-07T23:24:50.036088Z",
     "shell.execute_reply": "2025-03-07T23:24:50.034971Z",
     "shell.execute_reply.started": "2025-03-07T23:24:50.024339Z"
    },
    "trusted": true
   },
   "outputs": [
    {
     "data": {
      "text/html": [
       "<div>\n",
       "<style scoped>\n",
       "    .dataframe tbody tr th:only-of-type {\n",
       "        vertical-align: middle;\n",
       "    }\n",
       "\n",
       "    .dataframe tbody tr th {\n",
       "        vertical-align: top;\n",
       "    }\n",
       "\n",
       "    .dataframe thead th {\n",
       "        text-align: right;\n",
       "    }\n",
       "</style>\n",
       "<table border=\"1\" class=\"dataframe\">\n",
       "  <thead>\n",
       "    <tr style=\"text-align: right;\">\n",
       "      <th></th>\n",
       "      <th>Comment</th>\n",
       "      <th>Emotion</th>\n",
       "    </tr>\n",
       "  </thead>\n",
       "  <tbody>\n",
       "    <tr>\n",
       "      <th>0</th>\n",
       "      <td>i seriously hate one subject to death but now ...</td>\n",
       "      <td>fear</td>\n",
       "    </tr>\n",
       "    <tr>\n",
       "      <th>1</th>\n",
       "      <td>im so full of life i feel appalled</td>\n",
       "      <td>anger</td>\n",
       "    </tr>\n",
       "    <tr>\n",
       "      <th>2</th>\n",
       "      <td>i sit here to write i start to dig out my feel...</td>\n",
       "      <td>fear</td>\n",
       "    </tr>\n",
       "    <tr>\n",
       "      <th>3</th>\n",
       "      <td>ive been really angry with r and i feel like a...</td>\n",
       "      <td>joy</td>\n",
       "    </tr>\n",
       "    <tr>\n",
       "      <th>4</th>\n",
       "      <td>i feel suspicious if there is no one outside l...</td>\n",
       "      <td>fear</td>\n",
       "    </tr>\n",
       "  </tbody>\n",
       "</table>\n",
       "</div>"
      ],
      "text/plain": [
       "                                             Comment Emotion\n",
       "0  i seriously hate one subject to death but now ...    fear\n",
       "1                 im so full of life i feel appalled   anger\n",
       "2  i sit here to write i start to dig out my feel...    fear\n",
       "3  ive been really angry with r and i feel like a...     joy\n",
       "4  i feel suspicious if there is no one outside l...    fear"
      ]
     },
     "execution_count": 4,
     "metadata": {},
     "output_type": "execute_result"
    }
   ],
   "source": [
    "df.head()"
   ]
  },
  {
   "cell_type": "code",
   "execution_count": 5,
   "metadata": {
    "execution": {
     "iopub.execute_input": "2025-03-07T23:24:50.037432Z",
     "iopub.status.busy": "2025-03-07T23:24:50.037155Z",
     "iopub.status.idle": "2025-03-07T23:24:50.055970Z",
     "shell.execute_reply": "2025-03-07T23:24:50.054770Z",
     "shell.execute_reply.started": "2025-03-07T23:24:50.037411Z"
    },
    "trusted": true
   },
   "outputs": [
    {
     "name": "stdout",
     "output_type": "stream",
     "text": [
      "<class 'pandas.core.frame.DataFrame'>\n",
      "RangeIndex: 5937 entries, 0 to 5936\n",
      "Data columns (total 2 columns):\n",
      " #   Column   Non-Null Count  Dtype \n",
      "---  ------   --------------  ----- \n",
      " 0   Comment  5937 non-null   object\n",
      " 1   Emotion  5937 non-null   object\n",
      "dtypes: object(2)\n",
      "memory usage: 92.9+ KB\n"
     ]
    }
   ],
   "source": [
    "df.info()"
   ]
  },
  {
   "cell_type": "code",
   "execution_count": 6,
   "metadata": {
    "execution": {
     "iopub.execute_input": "2025-03-07T23:24:50.057455Z",
     "iopub.status.busy": "2025-03-07T23:24:50.057067Z",
     "iopub.status.idle": "2025-03-07T23:24:50.077181Z",
     "shell.execute_reply": "2025-03-07T23:24:50.076066Z",
     "shell.execute_reply.started": "2025-03-07T23:24:50.057417Z"
    },
    "trusted": true
   },
   "outputs": [
    {
     "data": {
      "text/plain": [
       "Emotion\n",
       "anger    2000\n",
       "joy      2000\n",
       "fear     1937\n",
       "Name: count, dtype: int64"
      ]
     },
     "execution_count": 6,
     "metadata": {},
     "output_type": "execute_result"
    }
   ],
   "source": [
    "df['Emotion'].value_counts()"
   ]
  },
  {
   "cell_type": "markdown",
   "metadata": {},
   "source": [
    "## **Preprocessing**"
   ]
  },
  {
   "cell_type": "code",
   "execution_count": 7,
   "metadata": {
    "execution": {
     "iopub.execute_input": "2025-03-07T23:24:50.078708Z",
     "iopub.status.busy": "2025-03-07T23:24:50.078346Z",
     "iopub.status.idle": "2025-03-07T23:24:50.093183Z",
     "shell.execute_reply": "2025-03-07T23:24:50.091873Z",
     "shell.execute_reply.started": "2025-03-07T23:24:50.078675Z"
    },
    "trusted": true
   },
   "outputs": [],
   "source": [
    "# Use this utility function to get the preprocessed text data\n",
    "def preprocess_text(text):\n",
    "    stop_words = set(stopwords.words('english'))\n",
    "    stemmer = PorterStemmer()\n",
    "    \n",
    "    tokens = word_tokenize(text.lower())  # Tokenization & Lowercasing\n",
    "    filtered_tokens = [stemmer.stem(word) for word in tokens if word.isalnum() and word not in stop_words]\n",
    "    \n",
    "    return ' '.join(filtered_tokens) "
   ]
  },
  {
   "cell_type": "code",
   "execution_count": 8,
   "metadata": {
    "execution": {
     "iopub.execute_input": "2025-03-07T23:24:50.094803Z",
     "iopub.status.busy": "2025-03-07T23:24:50.094405Z",
     "iopub.status.idle": "2025-03-07T23:24:53.211810Z",
     "shell.execute_reply": "2025-03-07T23:24:53.210823Z",
     "shell.execute_reply.started": "2025-03-07T23:24:50.094768Z"
    },
    "trusted": true
   },
   "outputs": [],
   "source": [
    "df['preprocessed_comment'] = df['Comment'].apply(preprocess_text)"
   ]
  },
  {
   "cell_type": "code",
   "execution_count": 9,
   "metadata": {
    "execution": {
     "iopub.execute_input": "2025-03-07T23:24:53.215248Z",
     "iopub.status.busy": "2025-03-07T23:24:53.214985Z",
     "iopub.status.idle": "2025-03-07T23:24:53.224131Z",
     "shell.execute_reply": "2025-03-07T23:24:53.223068Z",
     "shell.execute_reply.started": "2025-03-07T23:24:53.215227Z"
    },
    "trusted": true
   },
   "outputs": [
    {
     "data": {
      "text/html": [
       "<div>\n",
       "<style scoped>\n",
       "    .dataframe tbody tr th:only-of-type {\n",
       "        vertical-align: middle;\n",
       "    }\n",
       "\n",
       "    .dataframe tbody tr th {\n",
       "        vertical-align: top;\n",
       "    }\n",
       "\n",
       "    .dataframe thead th {\n",
       "        text-align: right;\n",
       "    }\n",
       "</style>\n",
       "<table border=\"1\" class=\"dataframe\">\n",
       "  <thead>\n",
       "    <tr style=\"text-align: right;\">\n",
       "      <th></th>\n",
       "      <th>Comment</th>\n",
       "      <th>Emotion</th>\n",
       "      <th>preprocessed_comment</th>\n",
       "    </tr>\n",
       "  </thead>\n",
       "  <tbody>\n",
       "    <tr>\n",
       "      <th>0</th>\n",
       "      <td>i seriously hate one subject to death but now ...</td>\n",
       "      <td>fear</td>\n",
       "      <td>serious hate one subject death feel reluct drop</td>\n",
       "    </tr>\n",
       "    <tr>\n",
       "      <th>1</th>\n",
       "      <td>im so full of life i feel appalled</td>\n",
       "      <td>anger</td>\n",
       "      <td>im full life feel appal</td>\n",
       "    </tr>\n",
       "    <tr>\n",
       "      <th>2</th>\n",
       "      <td>i sit here to write i start to dig out my feel...</td>\n",
       "      <td>fear</td>\n",
       "      <td>sit write start dig feel think afraid accept p...</td>\n",
       "    </tr>\n",
       "    <tr>\n",
       "      <th>3</th>\n",
       "      <td>ive been really angry with r and i feel like a...</td>\n",
       "      <td>joy</td>\n",
       "      <td>ive realli angri r feel like idiot trust first...</td>\n",
       "    </tr>\n",
       "    <tr>\n",
       "      <th>4</th>\n",
       "      <td>i feel suspicious if there is no one outside l...</td>\n",
       "      <td>fear</td>\n",
       "      <td>feel suspici one outsid like raptur happen someth</td>\n",
       "    </tr>\n",
       "  </tbody>\n",
       "</table>\n",
       "</div>"
      ],
      "text/plain": [
       "                                             Comment Emotion  \\\n",
       "0  i seriously hate one subject to death but now ...    fear   \n",
       "1                 im so full of life i feel appalled   anger   \n",
       "2  i sit here to write i start to dig out my feel...    fear   \n",
       "3  ive been really angry with r and i feel like a...     joy   \n",
       "4  i feel suspicious if there is no one outside l...    fear   \n",
       "\n",
       "                                preprocessed_comment  \n",
       "0    serious hate one subject death feel reluct drop  \n",
       "1                            im full life feel appal  \n",
       "2  sit write start dig feel think afraid accept p...  \n",
       "3  ive realli angri r feel like idiot trust first...  \n",
       "4  feel suspici one outsid like raptur happen someth  "
      ]
     },
     "execution_count": 9,
     "metadata": {},
     "output_type": "execute_result"
    }
   ],
   "source": [
    "df.head()"
   ]
  },
  {
   "cell_type": "code",
   "execution_count": 10,
   "metadata": {
    "execution": {
     "iopub.execute_input": "2025-03-07T23:24:53.225830Z",
     "iopub.status.busy": "2025-03-07T23:24:53.225582Z",
     "iopub.status.idle": "2025-03-07T23:24:53.245077Z",
     "shell.execute_reply": "2025-03-07T23:24:53.244003Z",
     "shell.execute_reply.started": "2025-03-07T23:24:53.225809Z"
    },
    "trusted": true
   },
   "outputs": [],
   "source": [
    "encoder = LabelEncoder()\n",
    "\n",
    "df['emotion_num'] = encoder.fit_transform(df['Emotion'])"
   ]
  },
  {
   "cell_type": "code",
   "execution_count": 11,
   "metadata": {
    "execution": {
     "iopub.execute_input": "2025-03-07T23:24:53.246324Z",
     "iopub.status.busy": "2025-03-07T23:24:53.246073Z",
     "iopub.status.idle": "2025-03-07T23:24:53.269332Z",
     "shell.execute_reply": "2025-03-07T23:24:53.268202Z",
     "shell.execute_reply.started": "2025-03-07T23:24:53.246305Z"
    },
    "trusted": true
   },
   "outputs": [
    {
     "data": {
      "text/html": [
       "<div>\n",
       "<style scoped>\n",
       "    .dataframe tbody tr th:only-of-type {\n",
       "        vertical-align: middle;\n",
       "    }\n",
       "\n",
       "    .dataframe tbody tr th {\n",
       "        vertical-align: top;\n",
       "    }\n",
       "\n",
       "    .dataframe thead th {\n",
       "        text-align: right;\n",
       "    }\n",
       "</style>\n",
       "<table border=\"1\" class=\"dataframe\">\n",
       "  <thead>\n",
       "    <tr style=\"text-align: right;\">\n",
       "      <th></th>\n",
       "      <th>Comment</th>\n",
       "      <th>Emotion</th>\n",
       "      <th>preprocessed_comment</th>\n",
       "      <th>emotion_num</th>\n",
       "    </tr>\n",
       "  </thead>\n",
       "  <tbody>\n",
       "    <tr>\n",
       "      <th>0</th>\n",
       "      <td>i seriously hate one subject to death but now ...</td>\n",
       "      <td>fear</td>\n",
       "      <td>serious hate one subject death feel reluct drop</td>\n",
       "      <td>1</td>\n",
       "    </tr>\n",
       "    <tr>\n",
       "      <th>1</th>\n",
       "      <td>im so full of life i feel appalled</td>\n",
       "      <td>anger</td>\n",
       "      <td>im full life feel appal</td>\n",
       "      <td>0</td>\n",
       "    </tr>\n",
       "    <tr>\n",
       "      <th>2</th>\n",
       "      <td>i sit here to write i start to dig out my feel...</td>\n",
       "      <td>fear</td>\n",
       "      <td>sit write start dig feel think afraid accept p...</td>\n",
       "      <td>1</td>\n",
       "    </tr>\n",
       "    <tr>\n",
       "      <th>3</th>\n",
       "      <td>ive been really angry with r and i feel like a...</td>\n",
       "      <td>joy</td>\n",
       "      <td>ive realli angri r feel like idiot trust first...</td>\n",
       "      <td>2</td>\n",
       "    </tr>\n",
       "    <tr>\n",
       "      <th>4</th>\n",
       "      <td>i feel suspicious if there is no one outside l...</td>\n",
       "      <td>fear</td>\n",
       "      <td>feel suspici one outsid like raptur happen someth</td>\n",
       "      <td>1</td>\n",
       "    </tr>\n",
       "  </tbody>\n",
       "</table>\n",
       "</div>"
      ],
      "text/plain": [
       "                                             Comment Emotion  \\\n",
       "0  i seriously hate one subject to death but now ...    fear   \n",
       "1                 im so full of life i feel appalled   anger   \n",
       "2  i sit here to write i start to dig out my feel...    fear   \n",
       "3  ive been really angry with r and i feel like a...     joy   \n",
       "4  i feel suspicious if there is no one outside l...    fear   \n",
       "\n",
       "                                preprocessed_comment  emotion_num  \n",
       "0    serious hate one subject death feel reluct drop            1  \n",
       "1                            im full life feel appal            0  \n",
       "2  sit write start dig feel think afraid accept p...            1  \n",
       "3  ive realli angri r feel like idiot trust first...            2  \n",
       "4  feel suspici one outsid like raptur happen someth            1  "
      ]
     },
     "execution_count": 11,
     "metadata": {},
     "output_type": "execute_result"
    }
   ],
   "source": [
    "df.head()"
   ]
  },
  {
   "cell_type": "code",
   "execution_count": 12,
   "metadata": {
    "execution": {
     "iopub.execute_input": "2025-03-07T23:24:53.270768Z",
     "iopub.status.busy": "2025-03-07T23:24:53.270368Z",
     "iopub.status.idle": "2025-03-07T23:24:53.285059Z",
     "shell.execute_reply": "2025-03-07T23:24:53.283991Z",
     "shell.execute_reply.started": "2025-03-07T23:24:53.270731Z"
    },
    "trusted": true
   },
   "outputs": [],
   "source": [
    "X = df['preprocessed_comment']\n",
    "y = df['emotion_num']"
   ]
  },
  {
   "cell_type": "code",
   "execution_count": 13,
   "metadata": {
    "execution": {
     "iopub.execute_input": "2025-03-07T23:24:53.286513Z",
     "iopub.status.busy": "2025-03-07T23:24:53.286153Z",
     "iopub.status.idle": "2025-03-07T23:24:53.306443Z",
     "shell.execute_reply": "2025-03-07T23:24:53.305299Z",
     "shell.execute_reply.started": "2025-03-07T23:24:53.286471Z"
    },
    "trusted": true
   },
   "outputs": [],
   "source": [
    "X_train, X_test, y_train, y_test = train_test_split(X, y, test_size=0.2, random_state=42, stratify=df['emotion_num'])"
   ]
  },
  {
   "cell_type": "markdown",
   "metadata": {},
   "source": [
    "## **Text Representation**"
   ]
  },
  {
   "cell_type": "code",
   "execution_count": 14,
   "metadata": {
    "execution": {
     "iopub.execute_input": "2025-03-07T23:24:53.307850Z",
     "iopub.status.busy": "2025-03-07T23:24:53.307491Z",
     "iopub.status.idle": "2025-03-07T23:24:53.403415Z",
     "shell.execute_reply": "2025-03-07T23:24:53.402197Z",
     "shell.execute_reply.started": "2025-03-07T23:24:53.307815Z"
    },
    "trusted": true
   },
   "outputs": [],
   "source": [
    "v = TfidfVectorizer()\n",
    "\n",
    "X_train_cv = v.fit_transform(X_train)\n",
    "X_test_cv = v.transform(X_test)"
   ]
  },
  {
   "cell_type": "markdown",
   "metadata": {},
   "source": [
    "## **Data Modeling and Evaluation**"
   ]
  },
  {
   "cell_type": "code",
   "execution_count": 15,
   "metadata": {
    "execution": {
     "iopub.execute_input": "2025-03-07T23:24:53.404569Z",
     "iopub.status.busy": "2025-03-07T23:24:53.404295Z",
     "iopub.status.idle": "2025-03-07T23:24:56.206199Z",
     "shell.execute_reply": "2025-03-07T23:24:56.205211Z",
     "shell.execute_reply.started": "2025-03-07T23:24:53.404548Z"
    },
    "trusted": true
   },
   "outputs": [
    {
     "data": {
      "text/html": [
       "<style>#sk-container-id-1 {color: black;background-color: white;}#sk-container-id-1 pre{padding: 0;}#sk-container-id-1 div.sk-toggleable {background-color: white;}#sk-container-id-1 label.sk-toggleable__label {cursor: pointer;display: block;width: 100%;margin-bottom: 0;padding: 0.3em;box-sizing: border-box;text-align: center;}#sk-container-id-1 label.sk-toggleable__label-arrow:before {content: \"▸\";float: left;margin-right: 0.25em;color: #696969;}#sk-container-id-1 label.sk-toggleable__label-arrow:hover:before {color: black;}#sk-container-id-1 div.sk-estimator:hover label.sk-toggleable__label-arrow:before {color: black;}#sk-container-id-1 div.sk-toggleable__content {max-height: 0;max-width: 0;overflow: hidden;text-align: left;background-color: #f0f8ff;}#sk-container-id-1 div.sk-toggleable__content pre {margin: 0.2em;color: black;border-radius: 0.25em;background-color: #f0f8ff;}#sk-container-id-1 input.sk-toggleable__control:checked~div.sk-toggleable__content {max-height: 200px;max-width: 100%;overflow: auto;}#sk-container-id-1 input.sk-toggleable__control:checked~label.sk-toggleable__label-arrow:before {content: \"▾\";}#sk-container-id-1 div.sk-estimator input.sk-toggleable__control:checked~label.sk-toggleable__label {background-color: #d4ebff;}#sk-container-id-1 div.sk-label input.sk-toggleable__control:checked~label.sk-toggleable__label {background-color: #d4ebff;}#sk-container-id-1 input.sk-hidden--visually {border: 0;clip: rect(1px 1px 1px 1px);clip: rect(1px, 1px, 1px, 1px);height: 1px;margin: -1px;overflow: hidden;padding: 0;position: absolute;width: 1px;}#sk-container-id-1 div.sk-estimator {font-family: monospace;background-color: #f0f8ff;border: 1px dotted black;border-radius: 0.25em;box-sizing: border-box;margin-bottom: 0.5em;}#sk-container-id-1 div.sk-estimator:hover {background-color: #d4ebff;}#sk-container-id-1 div.sk-parallel-item::after {content: \"\";width: 100%;border-bottom: 1px solid gray;flex-grow: 1;}#sk-container-id-1 div.sk-label:hover label.sk-toggleable__label {background-color: #d4ebff;}#sk-container-id-1 div.sk-serial::before {content: \"\";position: absolute;border-left: 1px solid gray;box-sizing: border-box;top: 0;bottom: 0;left: 50%;z-index: 0;}#sk-container-id-1 div.sk-serial {display: flex;flex-direction: column;align-items: center;background-color: white;padding-right: 0.2em;padding-left: 0.2em;position: relative;}#sk-container-id-1 div.sk-item {position: relative;z-index: 1;}#sk-container-id-1 div.sk-parallel {display: flex;align-items: stretch;justify-content: center;background-color: white;position: relative;}#sk-container-id-1 div.sk-item::before, #sk-container-id-1 div.sk-parallel-item::before {content: \"\";position: absolute;border-left: 1px solid gray;box-sizing: border-box;top: 0;bottom: 0;left: 50%;z-index: -1;}#sk-container-id-1 div.sk-parallel-item {display: flex;flex-direction: column;z-index: 1;position: relative;background-color: white;}#sk-container-id-1 div.sk-parallel-item:first-child::after {align-self: flex-end;width: 50%;}#sk-container-id-1 div.sk-parallel-item:last-child::after {align-self: flex-start;width: 50%;}#sk-container-id-1 div.sk-parallel-item:only-child::after {width: 0;}#sk-container-id-1 div.sk-dashed-wrapped {border: 1px dashed gray;margin: 0 0.4em 0.5em 0.4em;box-sizing: border-box;padding-bottom: 0.4em;background-color: white;}#sk-container-id-1 div.sk-label label {font-family: monospace;font-weight: bold;display: inline-block;line-height: 1.2em;}#sk-container-id-1 div.sk-label-container {text-align: center;}#sk-container-id-1 div.sk-container {/* jupyter's `normalize.less` sets `[hidden] { display: none; }` but bootstrap.min.css set `[hidden] { display: none !important; }` so we also need the `!important` here to be able to override the default hidden behavior on the sphinx rendered scikit-learn.org. See: https://github.com/scikit-learn/scikit-learn/issues/21755 */display: inline-block !important;position: relative;}#sk-container-id-1 div.sk-text-repr-fallback {display: none;}</style><div id=\"sk-container-id-1\" class=\"sk-top-container\"><div class=\"sk-text-repr-fallback\"><pre>RandomForestClassifier()</pre><b>In a Jupyter environment, please rerun this cell to show the HTML representation or trust the notebook. <br />On GitHub, the HTML representation is unable to render, please try loading this page with nbviewer.org.</b></div><div class=\"sk-container\" hidden><div class=\"sk-item\"><div class=\"sk-estimator sk-toggleable\"><input class=\"sk-toggleable__control sk-hidden--visually\" id=\"sk-estimator-id-1\" type=\"checkbox\" checked><label for=\"sk-estimator-id-1\" class=\"sk-toggleable__label sk-toggleable__label-arrow\">RandomForestClassifier</label><div class=\"sk-toggleable__content\"><pre>RandomForestClassifier()</pre></div></div></div></div></div>"
      ],
      "text/plain": [
       "RandomForestClassifier()"
      ]
     },
     "execution_count": 15,
     "metadata": {},
     "output_type": "execute_result"
    }
   ],
   "source": [
    "RFC_model = RandomForestClassifier()\n",
    "\n",
    "RFC_model.fit(X_train_cv, y_train)"
   ]
  },
  {
   "cell_type": "code",
   "execution_count": 16,
   "metadata": {
    "execution": {
     "iopub.execute_input": "2025-03-07T23:24:56.207318Z",
     "iopub.status.busy": "2025-03-07T23:24:56.207060Z",
     "iopub.status.idle": "2025-03-07T23:24:56.281347Z",
     "shell.execute_reply": "2025-03-07T23:24:56.280549Z",
     "shell.execute_reply.started": "2025-03-07T23:24:56.207297Z"
    },
    "trusted": true
   },
   "outputs": [],
   "source": [
    "# Get the predictions for X_test and store it in y_pred\n",
    "y_pred = RFC_model.predict(X_test_cv)"
   ]
  },
  {
   "cell_type": "code",
   "execution_count": 17,
   "metadata": {
    "execution": {
     "iopub.execute_input": "2025-03-07T23:24:56.282392Z",
     "iopub.status.busy": "2025-03-07T23:24:56.282139Z",
     "iopub.status.idle": "2025-03-07T23:24:56.289302Z",
     "shell.execute_reply": "2025-03-07T23:24:56.288056Z",
     "shell.execute_reply.started": "2025-03-07T23:24:56.282372Z"
    },
    "trusted": true
   },
   "outputs": [
    {
     "name": "stdout",
     "output_type": "stream",
     "text": [
      "0.9284511784511784\n"
     ]
    }
   ],
   "source": [
    "# Print Accuracy\n",
    "print(accuracy_score(y_test, y_pred))"
   ]
  },
  {
   "cell_type": "code",
   "execution_count": 18,
   "metadata": {
    "execution": {
     "iopub.execute_input": "2025-03-07T23:24:56.290690Z",
     "iopub.status.busy": "2025-03-07T23:24:56.290306Z",
     "iopub.status.idle": "2025-03-07T23:24:56.315781Z",
     "shell.execute_reply": "2025-03-07T23:24:56.314720Z",
     "shell.execute_reply.started": "2025-03-07T23:24:56.290655Z"
    },
    "trusted": true
   },
   "outputs": [
    {
     "name": "stdout",
     "output_type": "stream",
     "text": [
      "              precision    recall  f1-score   support\n",
      "\n",
      "           0       0.92      0.92      0.92       400\n",
      "           1       0.93      0.93      0.93       388\n",
      "           2       0.94      0.94      0.94       400\n",
      "\n",
      "    accuracy                           0.93      1188\n",
      "   macro avg       0.93      0.93      0.93      1188\n",
      "weighted avg       0.93      0.93      0.93      1188\n",
      "\n"
     ]
    }
   ],
   "source": [
    "# Print the classfication report\n",
    "print(classification_report(y_test, y_pred))"
   ]
  },
  {
   "cell_type": "code",
   "execution_count": 19,
   "metadata": {
    "execution": {
     "iopub.execute_input": "2025-03-07T23:24:56.317029Z",
     "iopub.status.busy": "2025-03-07T23:24:56.316737Z",
     "iopub.status.idle": "2025-03-07T23:24:56.327839Z",
     "shell.execute_reply": "2025-03-07T23:24:56.326853Z",
     "shell.execute_reply.started": "2025-03-07T23:24:56.317005Z"
    },
    "trusted": true
   },
   "outputs": [],
   "source": [
    "test_text = \"I'm looking good and feeling good other than this crappy cold i'm dealing with\""
   ]
  },
  {
   "cell_type": "code",
   "execution_count": 20,
   "metadata": {
    "execution": {
     "iopub.execute_input": "2025-03-07T23:24:56.329356Z",
     "iopub.status.busy": "2025-03-07T23:24:56.329004Z",
     "iopub.status.idle": "2025-03-07T23:24:56.346819Z",
     "shell.execute_reply": "2025-03-07T23:24:56.345917Z",
     "shell.execute_reply.started": "2025-03-07T23:24:56.329323Z"
    },
    "trusted": true
   },
   "outputs": [
    {
     "data": {
      "text/plain": [
       "['look good feel good crappi cold deal']"
      ]
     },
     "execution_count": 20,
     "metadata": {},
     "output_type": "execute_result"
    }
   ],
   "source": [
    "test_text_processed = [preprocess_text(test_text)]\n",
    "test_text_processed"
   ]
  },
  {
   "cell_type": "code",
   "execution_count": 21,
   "metadata": {
    "execution": {
     "iopub.execute_input": "2025-03-07T23:24:56.348266Z",
     "iopub.status.busy": "2025-03-07T23:24:56.347879Z",
     "iopub.status.idle": "2025-03-07T23:24:56.362921Z",
     "shell.execute_reply": "2025-03-07T23:24:56.361844Z",
     "shell.execute_reply.started": "2025-03-07T23:24:56.348231Z"
    },
    "trusted": true
   },
   "outputs": [],
   "source": [
    "test_text_vc = v.transform(test_text_processed)"
   ]
  },
  {
   "cell_type": "code",
   "execution_count": 22,
   "metadata": {
    "execution": {
     "iopub.execute_input": "2025-03-07T23:24:56.364290Z",
     "iopub.status.busy": "2025-03-07T23:24:56.363926Z",
     "iopub.status.idle": "2025-03-07T23:24:56.388457Z",
     "shell.execute_reply": "2025-03-07T23:24:56.387236Z",
     "shell.execute_reply.started": "2025-03-07T23:24:56.364256Z"
    },
    "trusted": true
   },
   "outputs": [],
   "source": [
    "test_text = RFC_model.predict(test_text_vc)"
   ]
  },
  {
   "cell_type": "code",
   "execution_count": 23,
   "metadata": {
    "execution": {
     "iopub.execute_input": "2025-03-07T23:24:56.389698Z",
     "iopub.status.busy": "2025-03-07T23:24:56.389392Z",
     "iopub.status.idle": "2025-03-07T23:24:56.400133Z",
     "shell.execute_reply": "2025-03-07T23:24:56.399012Z",
     "shell.execute_reply.started": "2025-03-07T23:24:56.389671Z"
    },
    "trusted": true
   },
   "outputs": [
    {
     "data": {
      "text/plain": [
       "'joy'"
      ]
     },
     "execution_count": 23,
     "metadata": {},
     "output_type": "execute_result"
    }
   ],
   "source": [
    "classes = ['anger', 'fear', 'joy']\n",
    "classes[test_text[0]]"
   ]
  }
 ],
 "metadata": {
  "kaggle": {
   "accelerator": "none",
   "dataSources": [
    {
     "datasetId": 3851864,
     "sourceId": 6676302,
     "sourceType": "datasetVersion"
    }
   ],
   "dockerImageVersionId": 30918,
   "isGpuEnabled": false,
   "isInternetEnabled": true,
   "language": "python",
   "sourceType": "notebook"
  },
  "kernelspec": {
   "display_name": "NLP",
   "language": "python",
   "name": "python3"
  },
  "language_info": {
   "codemirror_mode": {
    "name": "ipython",
    "version": 3
   },
   "file_extension": ".py",
   "mimetype": "text/x-python",
   "name": "python",
   "nbconvert_exporter": "python",
   "pygments_lexer": "ipython3",
   "version": "3.12.3"
  }
 },
 "nbformat": 4,
 "nbformat_minor": 4
}
